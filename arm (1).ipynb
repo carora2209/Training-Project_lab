{
 "cells": [
  {
   "cell_type": "markdown",
   "metadata": {},
   "source": [
    "## Imports"
   ]
  },
  {
   "cell_type": "code",
   "execution_count": 1,
   "metadata": {},
   "outputs": [],
   "source": [
    "\n",
    "#utils\n",
    "import numpy as np \n",
    "import pandas as pd\n",
    "from glob import glob\n",
    "import tensorflow as tf\n",
    "\n",
    "#visualisation\n",
    "import seaborn as sns\n",
    "import matplotlib.pyplot as plt\n",
    "\n",
    "#Preproc\n",
    "from keras.preprocessing.image import ImageDataGenerator\n",
    "from keras.utils.np_utils import to_categorical\n",
    "from keras import backend as K\n",
    "\n",
    "#model\n",
    "from keras import layers\n",
    "from keras.models import Model\n",
    "from keras.layers import Conv2D, GlobalMaxPooling2D,MaxPooling2D\n",
    "from keras.layers import Activation,Dense\n",
    "\n",
    "#metrics\n",
    "from sklearn import metrics\n",
    "from keras.metrics import categorical_accuracy\n",
    "from sklearn.metrics import classification_report,confusion_matrix,f1_score, precision_score\n",
    "import time"
   ]
  },
  {
   "cell_type": "markdown",
   "metadata": {},
   "source": [
    "## Globals"
   ]
  },
  {
   "cell_type": "code",
   "execution_count": 2,
   "metadata": {},
   "outputs": [],
   "source": [
    "'''\n",
    "We use fixed seed to make the data set reproducible\n",
    "'''\n",
    "seed = 5\n",
    "np.random.seed(seed)\n",
    "#dimensions\n",
    "img_width, img_height = 64,64\n",
    "\n",
    "#data dirs\n",
    "train_data_dir = './img/train/'\n",
    "test_data_dir = './img/val/'\n",
    "\n",
    "#Classes/labels\n",
    "class_types = ['Malware','Benign']"
   ]
  },
  {
   "cell_type": "code",
   "execution_count": 3,
   "metadata": {},
   "outputs": [
    {
     "data": {
      "text/plain": [
       "(64, None, 1)"
      ]
     },
     "execution_count": 3,
     "metadata": {},
     "output_type": "execute_result"
    }
   ],
   "source": [
    "#Class/label setup\n",
    "num_classes = 2 #malware & benign\n",
    "\n",
    "#Setting up input tuple shape for the model.\n",
    "if K.image_data_format() == 'channels_first':\n",
    "    input_shape = (1, img_width, None)\n",
    "else:\n",
    "    input_shape = (img_width, None,1)\n",
    "input_shape"
   ]
  },
  {
   "cell_type": "markdown",
   "metadata": {},
   "source": [
    "## Model Description"
   ]
  },
  {
   "cell_type": "code",
   "execution_count": 4,
   "metadata": {},
   "outputs": [],
   "source": [
    "'''\n",
    "Creation of the Sequential model.\n",
    "1st layer: input_layer = creates a starting point for the data to enter by giving all of them a uniform \n",
    "shape from where they can traverse through the rest of the model.\n",
    "\n",
    "2nd Layer: Covolution 2D layer = This layer creates a convolution kernel that is convolved with the layer\n",
    "input to produce a tensor of outputs.\n",
    "    params: \n",
    "            filters,\n",
    "            kernel shape,\n",
    "            activation function,\n",
    "    The input layer has been passed as the layer before it.\n",
    "\n",
    "3rd layer: MaxPooling2D layer= Downsamples the input along its spatial dimensions(no.of pixels in this case)\n",
    "or(height and width) by taking the maximum value over an input window (of size defined by pool_size) for each\n",
    "channel of the input The window is shifted by strides along each dimension.\n",
    "    params:\n",
    "        filters,\n",
    "        pool_size\n",
    "    The last layer has been passed as a parameter to get the input shape.\n",
    "\n",
    "4th layer: Convolution 2D layer= Same as before\n",
    "\n",
    "5th layer: Global MaxPooling2D = The ordering of the dimensions in the inputs. channels_last corresponds \n",
    "to inputs with shape (batch, height, width, channels)\n",
    "while channels_first corresponds to inputs with shape (batch, channels, height, width) .\n",
    "refer = https://keras.io/api/layers/pooling_layers/global_max_pooling2d/\n",
    "\n",
    "6th layer = Dense layer = The dense layer’s neuron in a model receives output from every neuron \n",
    "of its preceding layer, where neurons of the dense layer perform matrix-vector multiplication. \n",
    "Implementation : https://keras.io/api/layers/core_layers/dense/\n",
    "    params:\n",
    "        units,\n",
    "        activation function\n",
    "\n",
    "7th layer: Output Layer = Again a Dense layer with only 1 unit and sigmoid activation to normalize the output\n",
    "\n",
    "'''\n",
    "def model(input_shape):\n",
    "    input_layer = layers.Input(shape = input_shape)\n",
    "    x = Conv2D(32,(3,3),activation='relu')(input_layer)\n",
    "    x = MaxPooling2D(32,(2,2))(x)\n",
    "    x = Conv2D(72,(3,3),activation='relu')(x)\n",
    "    x = GlobalMaxPooling2D()(x)\n",
    "    x = Dense(256,activation='softmax')(x)\n",
    "    output_layer = Dense(1,activation='sigmoid')(x)\n",
    "    model = Model(inputs =input_layer,outputs = output_layer,name='CNN')\n",
    "    return model"
   ]
  },
  {
   "cell_type": "code",
   "execution_count": 5,
   "metadata": {},
   "outputs": [
    {
     "name": "stdout",
     "output_type": "stream",
     "text": [
      "Model: \"CNN\"\n",
      "_________________________________________________________________\n",
      "Layer (type)                 Output Shape              Param #   \n",
      "=================================================================\n",
      "input_1 (InputLayer)         [(None, 64, None, 1)]     0         \n",
      "_________________________________________________________________\n",
      "conv2d (Conv2D)              (None, 62, None, 32)      320       \n",
      "_________________________________________________________________\n",
      "max_pooling2d (MaxPooling2D) (None, 16, None, 32)      0         \n",
      "_________________________________________________________________\n",
      "conv2d_1 (Conv2D)            (None, 14, None, 72)      20808     \n",
      "_________________________________________________________________\n",
      "global_max_pooling2d (Global (None, 72)                0         \n",
      "_________________________________________________________________\n",
      "dense (Dense)                (None, 256)               18688     \n",
      "_________________________________________________________________\n",
      "dense_1 (Dense)              (None, 1)                 257       \n",
      "=================================================================\n",
      "Total params: 40,073\n",
      "Trainable params: 40,073\n",
      "Non-trainable params: 0\n",
      "_________________________________________________________________\n"
     ]
    }
   ],
   "source": [
    "model = model(input_shape)\n",
    "\n",
    "#Compiling\n",
    "model.compile(loss='binary_crossentropy', optimizer='adam', metrics=['accuracy'])\n",
    "'''\n",
    "We use loss function \"binary crossentrop\" because we are classifying between 2 classes, benign and malware.\n",
    "\"adam\" refer: https://keras.io/api/optimizers/adam/\n",
    "'''\n",
    "model.summary()"
   ]
  },
  {
   "cell_type": "markdown",
   "metadata": {},
   "source": [
    "## Data Generation"
   ]
  },
  {
   "cell_type": "code",
   "execution_count": 6,
   "metadata": {},
   "outputs": [
    {
     "name": "stdout",
     "output_type": "stream",
     "text": [
      "Found 3200 images belonging to 2 classes.\n",
      "Found 800 images belonging to 2 classes.\n"
     ]
    }
   ],
   "source": [
    "#Use ImageDataGenerator to feed image files from directories\n",
    "train_datagen = ImageDataGenerator(rescale = 1. / 255)\n",
    "test_datagen = ImageDataGenerator(rescale = 1. / 255)\n",
    "\n",
    "'''\n",
    "We implement 2 data generator here which create the training an test data sets.\n",
    "The generators take in the folloeing parameters\n",
    "params:\n",
    "    path_to_directory,color_mode,target_size, batch_size, class_mode\n",
    "The directory passed as parameter has 2 child directories which contain the 2 classes of image data\n",
    "(benign and malware). All the data images are greyscale images. The target size is 64x64 pixels.\n",
    "We create batches of 10 images which will be precessed at once.\n",
    "'''\n",
    "train_generator = train_datagen.flow_from_directory(\n",
    "                          train_data_dir,\n",
    "                          color_mode='grayscale',\n",
    "                          target_size = (64,64),\n",
    "                          batch_size = 10,\n",
    "                          class_mode = 'binary')\n",
    "\n",
    "\n",
    "test_generator = test_datagen.flow_from_directory(\n",
    "                  test_data_dir,\n",
    "                  color_mode='grayscale',\n",
    "                  target_size=(img_width, img_width),\n",
    "              batch_size=10,\n",
    "              class_mode='binary')"
   ]
  },
  {
   "cell_type": "markdown",
   "metadata": {},
   "source": [
    "## Fitting Model"
   ]
  },
  {
   "cell_type": "code",
   "execution_count": 7,
   "metadata": {},
   "outputs": [
    {
     "name": "stdout",
     "output_type": "stream",
     "text": [
      "Epoch 1/20\n",
      "20/20 [==============================] - 11s 465ms/step - loss: 0.6920 - accuracy: 0.5917 - val_loss: 0.6936 - val_accuracy: 0.4800\n",
      "Epoch 2/20\n",
      "20/20 [==============================] - 6s 303ms/step - loss: 0.6932 - accuracy: 0.4850 - val_loss: 0.6945 - val_accuracy: 0.4500\n",
      "Epoch 3/20\n",
      "20/20 [==============================] - 5s 254ms/step - loss: 0.6916 - accuracy: 0.5022 - val_loss: 0.6910 - val_accuracy: 0.4900\n",
      "Epoch 4/20\n",
      "20/20 [==============================] - 5s 262ms/step - loss: 0.6947 - accuracy: 0.4489 - val_loss: 0.6919 - val_accuracy: 0.4450\n",
      "Epoch 5/20\n",
      "20/20 [==============================] - 5s 257ms/step - loss: 0.6944 - accuracy: 0.3870 - val_loss: 0.6860 - val_accuracy: 0.4800\n",
      "Epoch 6/20\n",
      "20/20 [==============================] - 5s 235ms/step - loss: 0.6853 - accuracy: 0.5048 - val_loss: 0.6736 - val_accuracy: 0.5250\n",
      "Epoch 7/20\n",
      "20/20 [==============================] - 5s 231ms/step - loss: 0.6808 - accuracy: 0.5731 - val_loss: 0.6605 - val_accuracy: 0.6800\n",
      "Epoch 8/20\n",
      "20/20 [==============================] - 5s 233ms/step - loss: 0.6549 - accuracy: 0.7554 - val_loss: 0.6424 - val_accuracy: 0.8550\n",
      "Epoch 9/20\n",
      "20/20 [==============================] - 4s 219ms/step - loss: 0.6407 - accuracy: 0.8425 - val_loss: 0.6315 - val_accuracy: 0.8550\n",
      "Epoch 10/20\n",
      "20/20 [==============================] - 4s 215ms/step - loss: 0.6312 - accuracy: 0.8410 - val_loss: 0.6205 - val_accuracy: 0.8550\n",
      "Epoch 11/20\n",
      "20/20 [==============================] - 4s 219ms/step - loss: 0.6236 - accuracy: 0.8132 - val_loss: 0.6047 - val_accuracy: 0.8600\n",
      "Epoch 12/20\n",
      "20/20 [==============================] - 4s 216ms/step - loss: 0.6164 - accuracy: 0.8100 - val_loss: 0.5972 - val_accuracy: 0.8350\n",
      "Epoch 13/20\n",
      "20/20 [==============================] - 4s 212ms/step - loss: 0.5958 - accuracy: 0.8400 - val_loss: 0.5772 - val_accuracy: 0.8700\n",
      "Epoch 14/20\n",
      "20/20 [==============================] - 4s 216ms/step - loss: 0.5843 - accuracy: 0.8435 - val_loss: 0.5606 - val_accuracy: 0.8900\n",
      "Epoch 15/20\n",
      "20/20 [==============================] - 4s 208ms/step - loss: 0.5721 - accuracy: 0.8543 - val_loss: 0.5513 - val_accuracy: 0.8850\n",
      "Epoch 16/20\n",
      "20/20 [==============================] - 5s 276ms/step - loss: 0.5706 - accuracy: 0.8357 - val_loss: 0.5511 - val_accuracy: 0.8600\n",
      "Epoch 17/20\n",
      "20/20 [==============================] - 4s 209ms/step - loss: 0.5488 - accuracy: 0.8604 - val_loss: 0.5334 - val_accuracy: 0.8700\n",
      "Epoch 18/20\n",
      "20/20 [==============================] - 4s 206ms/step - loss: 0.5579 - accuracy: 0.8283 - val_loss: 0.5375 - val_accuracy: 0.8450\n",
      "Epoch 19/20\n",
      "20/20 [==============================] - 4s 199ms/step - loss: 0.5628 - accuracy: 0.8097 - val_loss: 0.5236 - val_accuracy: 0.8650\n",
      "Epoch 20/20\n",
      "20/20 [==============================] - 4s 202ms/step - loss: 0.5355 - accuracy: 0.8411 - val_loss: 0.4978 - val_accuracy: 0.9050\n",
      "CNN model execution time took 100.23080611228943 seconds\n"
     ]
    }
   ],
   "source": [
    "start_time = time.time()\n",
    "'''\n",
    "The fitting of the model has been done with by runnning the data through the model 20 times \n",
    "20 epochs, we have the same number of epochs for the validation data as well.\n",
    "'''\n",
    "history = model.fit(train_generator, steps_per_epoch=20, validation_data=test_generator, \n",
    "                              validation_steps=20,epochs=20)\n",
    "\n",
    "print(\"CNN model execution time took %s seconds\" % (time.time() - start_time))"
   ]
  },
  {
   "cell_type": "markdown",
   "metadata": {},
   "source": [
    "## Metrics"
   ]
  },
  {
   "cell_type": "markdown",
   "metadata": {},
   "source": [
    "### Confusion Matrix"
   ]
  },
  {
   "cell_type": "code",
   "execution_count": 8,
   "metadata": {},
   "outputs": [
    {
     "data": {
      "text/plain": [
       "array([[174, 226],\n",
       "       [153, 247]], dtype=int64)"
      ]
     },
     "execution_count": 8,
     "metadata": {},
     "output_type": "execute_result"
    }
   ],
   "source": [
    "#contains all the predictions made by the model ,array of[0-1] values\n",
    "probabilities = model.predict(test_generator)\n",
    "\n",
    "y_true = test_generator.classes\n",
    "y_pred = probabilities>0.49873\n",
    "plt.rc('font')\n",
    "#confusion matrix store the true +ve, true-ve, etc etc values\n",
    "mat = confusion_matrix(y_true, y_pred)\n",
    "mat"
   ]
  },
  {
   "cell_type": "markdown",
   "metadata": {},
   "source": [
    "### Precision Score"
   ]
  },
  {
   "cell_type": "code",
   "execution_count": 9,
   "metadata": {},
   "outputs": [
    {
     "name": "stdout",
     "output_type": "stream",
     "text": [
      "Test precision : 52.7%\n"
     ]
    }
   ],
   "source": [
    "\n",
    "precision_score = metrics.precision_score(y_true,y_pred,average='macro')\n",
    "print(f\"Test precision : {precision_score:.1%}\")"
   ]
  },
  {
   "cell_type": "markdown",
   "metadata": {},
   "source": [
    "### F1 Score"
   ]
  },
  {
   "cell_type": "code",
   "execution_count": 10,
   "metadata": {},
   "outputs": [
    {
     "name": "stdout",
     "output_type": "stream",
     "text": [
      "F1 score : 56.6%\n"
     ]
    }
   ],
   "source": [
    "f1_score = metrics.f1_score(y_true,y_pred)\n",
    "print(f\"F1 score :{f1_score: .1%}\")"
   ]
  },
  {
   "cell_type": "markdown",
   "metadata": {},
   "source": [
    "### Recall Score"
   ]
  },
  {
   "cell_type": "code",
   "execution_count": 11,
   "metadata": {},
   "outputs": [
    {
     "name": "stdout",
     "output_type": "stream",
     "text": [
      "Recall score : 52.6%\n"
     ]
    }
   ],
   "source": [
    "r1 = metrics.recall_score(y_true,y_pred,average = \"macro\")\n",
    "print(f\"Recall score :{r1: .1%}\")"
   ]
  },
  {
   "cell_type": "markdown",
   "metadata": {},
   "source": [
    "## Visualisation"
   ]
  },
  {
   "cell_type": "code",
   "execution_count": 12,
   "metadata": {},
   "outputs": [
    {
     "data": {
      "text/plain": [
       "<matplotlib.legend.Legend at 0x1869b703ee0>"
      ]
     },
     "execution_count": 12,
     "metadata": {},
     "output_type": "execute_result"
    },
    {
     "data": {
      "image/png": "[encoded data removed]",
      "text/plain": [
       "<Figure size 432x288 with 1 Axes>"
      ]
     },
     "metadata": {
      "needs_background": "light"
     },
     "output_type": "display_data"
    }
   ],
   "source": [
    "#Summarize history for accuracy\n",
    "plt.plot(history.history['accuracy'], label='train')\n",
    "plt.plot(history.history['val_accuracy'], label='test')\n",
    "plt.title('Train Accuracy Plot')\n",
    "plt.ylabel('accuracy')\n",
    "plt.xlabel('epoch')\n",
    "plt.legend()"
   ]
  },
  {
   "cell_type": "code",
   "execution_count": 13,
   "metadata": {},
   "outputs": [
    {
     "data": {
      "text/plain": [
       "<matplotlib.legend.Legend at 0x1869b89b370>"
      ]
     },
     "execution_count": 13,
     "metadata": {},
     "output_type": "execute_result"
    },
    {
     "data": {
      "image/png": "[encoded data removed]",
      "text/plain": [
       "<Figure size 432x288 with 1 Axes>"
      ]
     },
     "metadata": {
      "needs_background": "light"
     },
     "output_type": "display_data"
    }
   ],
   "source": [
    "plt.plot(history.history['loss'], label='train')\n",
    "plt.plot(history.history['val_loss'], label='test')\n",
    "plt.title('Train loss plot')\n",
    "plt.ylabel('loss')\n",
    "plt.xlabel('epoch')\n",
    "plt.legend()"
   ]
  },
  {
   "cell_type": "markdown",
   "metadata": {},
   "source": []
  },
  {
   "cell_type": "markdown",
   "metadata": {},
   "source": [
    "## Heatmap"
   ]
  },
  {
   "cell_type": "code",
   "execution_count": 14,
   "metadata": {},
   "outputs": [
    {
     "data": {
      "image/png": "[encoded data removed]",
      "text/plain": [
       "<Figure size 864x864 with 2 Axes>"
      ]
     },
     "metadata": {
      "needs_background": "light"
     },
     "output_type": "display_data"
    }
   ],
   "source": [
    "#visualization of confusion matrix\n",
    "plt.figure(figsize=(12,12))\n",
    "sns_hmp = sns.heatmap(mat, annot=True, xticklabels = [class_types[i] for i in range(len(class_types))], yticklabels = [class_types[i] for i in range(len(class_types))], fmt=\"d\")\n",
    "fig = sns_hmp.get_figure()"
   ]
  }
 ],
 "metadata": {
  "kernelspec": {
   "display_name": "Python 3.8.10 64-bit (microsoft store)",
   "language": "python",
   "name": "python3"
  },
  "language_info": {
   "codemirror_mode": {
    "name": "ipython",
    "version": 3
   },
   "file_extension": ".py",
   "mimetype": "text/x-python",
   "name": "python",
   "nbconvert_exporter": "python",
   "pygments_lexer": "ipython3",
   "version": "3.8.10"
  },
  "orig_nbformat": 4,
  "vscode": {
   "interpreter": {
    "hash": "2975ce78cb703cbf264356bf7333929784bf3b5ba3576048c471cb2932a2109e"
   }
  }
 },
 "nbformat": 4,
 "nbformat_minor": 2
}
