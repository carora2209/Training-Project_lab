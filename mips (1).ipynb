{
 "cells": [
  {
   "cell_type": "markdown",
   "metadata": {},
   "source": [
    "## Imports"
   ]
  },
  {
   "cell_type": "code",
   "execution_count": 1,
   "metadata": {},
   "outputs": [],
   "source": [
    "\n",
    "#utils\n",
    "import numpy as np \n",
    "import pandas as pd\n",
    "from glob import glob\n",
    "import tensorflow as tf\n",
    "\n",
    "#visualisation\n",
    "import seaborn as sns\n",
    "import matplotlib.pyplot as plt\n",
    "\n",
    "#Preproc\n",
    "from keras.preprocessing.image import ImageDataGenerator\n",
    "from keras.utils.np_utils import to_categorical\n",
    "from keras import backend as K\n",
    "\n",
    "#model\n",
    "from keras import layers\n",
    "from keras.models import Model\n",
    "from keras.layers import Conv2D, GlobalMaxPooling2D,MaxPooling2D\n",
    "from keras.layers import Activation,Dense\n",
    "\n",
    "#metrics\n",
    "from sklearn import metrics\n",
    "from keras.metrics import categorical_accuracy\n",
    "from sklearn.metrics import classification_report,confusion_matrix,f1_score, precision_score\n",
    "import time"
   ]
  },
  {
   "cell_type": "markdown",
   "metadata": {},
   "source": [
    "## Globals"
   ]
  },
  {
   "cell_type": "code",
   "execution_count": 2,
   "metadata": {},
   "outputs": [],
   "source": [
    "#to make it reproducable\n",
    "seed = 5\n",
    "np.random.seed(seed)\n",
    "#dimensions\n",
    "img_width, img_height = 64,64\n",
    "#data dirs\n",
    "train_data_dir = './mips/train/'\n",
    "test_data_dir = './mips/val/'\n",
    "#Classes/labels\n",
    "\n",
    "class_types = ['Malware','Benign']"
   ]
  },
  {
   "cell_type": "code",
   "execution_count": 3,
   "metadata": {},
   "outputs": [
    {
     "data": {
      "text/plain": [
       "(64, None, 1)"
      ]
     },
     "execution_count": 3,
     "metadata": {},
     "output_type": "execute_result"
    }
   ],
   "source": [
    "#Class/label setup\n",
    "num_classes = 2 #malware & benignware\n",
    "if K.image_data_format() == 'channels_first':\n",
    "    input_shape = (1, img_width, None)\n",
    "else:\n",
    "    input_shape = (img_width, None,1)\n",
    "input_shape"
   ]
  },
  {
   "cell_type": "markdown",
   "metadata": {},
   "source": [
    "## Model Description"
   ]
  },
  {
   "cell_type": "code",
   "execution_count": 4,
   "metadata": {},
   "outputs": [],
   "source": [
    "def model(input_shape):\n",
    "    input_layer = layers.Input(shape = input_shape)\n",
    "    x = Conv2D(32,(3,3),activation='relu')(input_layer)\n",
    "    x = MaxPooling2D(32,(2,2))(x)\n",
    "    x = Conv2D(72,(3,3),activation='relu')(x)\n",
    "    x = GlobalMaxPooling2D()(x)\n",
    "    x = Dense(256,activation='softmax')(x)\n",
    "    output_layer = Dense(1,activation='sigmoid')(x)\n",
    "    model = Model(inputs =input_layer,outputs = output_layer,name='CNN')\n",
    "    return model"
   ]
  },
  {
   "cell_type": "code",
   "execution_count": 5,
   "metadata": {},
   "outputs": [
    {
     "name": "stdout",
     "output_type": "stream",
     "text": [
      "Model: \"CNN\"\n",
      "_________________________________________________________________\n",
      "Layer (type)                 Output Shape              Param #   \n",
      "=================================================================\n",
      "input_1 (InputLayer)         [(None, 64, None, 1)]     0         \n",
      "_________________________________________________________________\n",
      "conv2d (Conv2D)              (None, 62, None, 32)      320       \n",
      "_________________________________________________________________\n",
      "max_pooling2d (MaxPooling2D) (None, 16, None, 32)      0         \n",
      "_________________________________________________________________\n",
      "conv2d_1 (Conv2D)            (None, 14, None, 72)      20808     \n",
      "_________________________________________________________________\n",
      "global_max_pooling2d (Global (None, 72)                0         \n",
      "_________________________________________________________________\n",
      "dense (Dense)                (None, 256)               18688     \n",
      "_________________________________________________________________\n",
      "dense_1 (Dense)              (None, 1)                 257       \n",
      "=================================================================\n",
      "Total params: 40,073\n",
      "Trainable params: 40,073\n",
      "Non-trainable params: 0\n",
      "_________________________________________________________________\n"
     ]
    }
   ],
   "source": [
    "model = model(input_shape)\n",
    "\n",
    "#Compiling\n",
    "model.compile(loss='binary_crossentropy', optimizer='adam', metrics=['accuracy'])\n",
    "model.summary()"
   ]
  },
  {
   "cell_type": "markdown",
   "metadata": {},
   "source": [
    "## Data Generation"
   ]
  },
  {
   "cell_type": "code",
   "execution_count": 6,
   "metadata": {},
   "outputs": [
    {
     "name": "stdout",
     "output_type": "stream",
     "text": [
      "Found 3200 images belonging to 2 classes.\n",
      "Found 800 images belonging to 2 classes.\n"
     ]
    }
   ],
   "source": [
    "#Use ImageDataGenerator to feed image files from directories\n",
    "train_datagen = ImageDataGenerator(rescale = 1. / 255)\n",
    "test_datagen = ImageDataGenerator(rescale = 1. / 255)\n",
    "\n",
    "train_generator = train_datagen.flow_from_directory(\n",
    "                          train_data_dir,\n",
    "                          color_mode='grayscale',\n",
    "                          target_size = (64,64),\n",
    "                          batch_size = 10,\n",
    "                          class_mode = 'binary')\n",
    "\n",
    "\n",
    "test_generator = test_datagen.flow_from_directory(\n",
    "                  test_data_dir,\n",
    "                  color_mode='grayscale',\n",
    "                  target_size=(img_width, img_width),\n",
    "              batch_size=10,\n",
    "              class_mode='binary')"
   ]
  },
  {
   "cell_type": "markdown",
   "metadata": {},
   "source": [
    "## Fitting Model"
   ]
  },
  {
   "cell_type": "code",
   "execution_count": 7,
   "metadata": {},
   "outputs": [
    {
     "name": "stdout",
     "output_type": "stream",
     "text": [
      "Epoch 1/20\n",
      "20/20 [==============================] - 11s 493ms/step - loss: 0.6931 - accuracy: 0.5487 - val_loss: 0.6933 - val_accuracy: 0.4800\n",
      "Epoch 2/20\n",
      "20/20 [==============================] - 6s 295ms/step - loss: 0.6927 - accuracy: 0.5538 - val_loss: 0.6938 - val_accuracy: 0.4500\n",
      "Epoch 3/20\n",
      "20/20 [==============================] - 5s 241ms/step - loss: 0.6921 - accuracy: 0.5724 - val_loss: 0.6933 - val_accuracy: 0.4900\n",
      "Epoch 4/20\n",
      "20/20 [==============================] - 5s 252ms/step - loss: 0.6921 - accuracy: 0.5383 - val_loss: 0.6947 - val_accuracy: 0.4450\n",
      "Epoch 5/20\n",
      "20/20 [==============================] - 5s 247ms/step - loss: 0.6919 - accuracy: 0.5217 - val_loss: 0.6904 - val_accuracy: 0.5300\n",
      "Epoch 6/20\n",
      "20/20 [==============================] - 4s 197ms/step - loss: 0.6930 - accuracy: 0.4566 - val_loss: 0.6870 - val_accuracy: 0.5250\n",
      "Epoch 7/20\n",
      "20/20 [==============================] - 4s 187ms/step - loss: 0.6857 - accuracy: 0.4953 - val_loss: 0.6809 - val_accuracy: 0.4850\n",
      "Epoch 8/20\n",
      "20/20 [==============================] - 4s 171ms/step - loss: 0.6770 - accuracy: 0.5387 - val_loss: 0.6551 - val_accuracy: 0.8100\n",
      "Epoch 9/20\n",
      "20/20 [==============================] - 4s 190ms/step - loss: 0.6573 - accuracy: 0.7456 - val_loss: 0.6447 - val_accuracy: 0.7650\n",
      "Epoch 10/20\n",
      "20/20 [==============================] - 4s 186ms/step - loss: 0.6403 - accuracy: 0.7736 - val_loss: 0.6285 - val_accuracy: 0.7700\n",
      "Epoch 11/20\n",
      "20/20 [==============================] - 4s 186ms/step - loss: 0.6097 - accuracy: 0.8408 - val_loss: 0.6059 - val_accuracy: 0.8050\n",
      "Epoch 12/20\n",
      "20/20 [==============================] - 4s 190ms/step - loss: 0.6024 - accuracy: 0.8263 - val_loss: 0.6001 - val_accuracy: 0.7900\n",
      "Epoch 13/20\n",
      "20/20 [==============================] - 4s 188ms/step - loss: 0.5894 - accuracy: 0.8209 - val_loss: 0.5788 - val_accuracy: 0.8200\n",
      "Epoch 14/20\n",
      "20/20 [==============================] - 4s 185ms/step - loss: 0.5650 - accuracy: 0.8606 - val_loss: 0.5722 - val_accuracy: 0.8250\n",
      "Epoch 15/20\n",
      "20/20 [==============================] - 4s 201ms/step - loss: 0.5564 - accuracy: 0.8554 - val_loss: 0.5429 - val_accuracy: 0.8800\n",
      "Epoch 16/20\n",
      "20/20 [==============================] - 4s 182ms/step - loss: 0.5363 - accuracy: 0.8689 - val_loss: 0.5498 - val_accuracy: 0.8500\n",
      "Epoch 17/20\n",
      "20/20 [==============================] - 4s 185ms/step - loss: 0.5315 - accuracy: 0.8609 - val_loss: 0.5392 - val_accuracy: 0.8400\n",
      "Epoch 18/20\n",
      "20/20 [==============================] - 4s 184ms/step - loss: 0.4974 - accuracy: 0.9331 - val_loss: 0.5155 - val_accuracy: 0.8750\n",
      "Epoch 19/20\n",
      "20/20 [==============================] - 4s 183ms/step - loss: 0.5396 - accuracy: 0.8171 - val_loss: 0.5209 - val_accuracy: 0.8600\n",
      "Epoch 20/20\n",
      "20/20 [==============================] - 4s 195ms/step - loss: 0.4748 - accuracy: 0.9423 - val_loss: 0.4916 - val_accuracy: 0.8950\n",
      "CNN model execution time took 90.42707443237305 seconds\n"
     ]
    }
   ],
   "source": [
    "start_time = time.time()\n",
    "history = model.fit(train_generator, steps_per_epoch=20, validation_data=test_generator, \n",
    "                              validation_steps=20,epochs=20)\n",
    "\n",
    "print(\"CNN model execution time took %s seconds\" % (time.time() - start_time))"
   ]
  },
  {
   "cell_type": "markdown",
   "metadata": {},
   "source": [
    "## Metrics"
   ]
  },
  {
   "cell_type": "markdown",
   "metadata": {},
   "source": [
    "### Confusion Matrix"
   ]
  },
  {
   "cell_type": "code",
   "execution_count": 8,
   "metadata": {},
   "outputs": [
    {
     "data": {
      "text/plain": [
       "array([[163, 237],\n",
       "       [166, 234]], dtype=int64)"
      ]
     },
     "execution_count": 8,
     "metadata": {},
     "output_type": "execute_result"
    }
   ],
   "source": [
    "probabilities = model.predict(test_generator)\n",
    "y_true = test_generator.classes\n",
    "y_pred = probabilities>0.49873\n",
    "plt.rc('font')\n",
    "mat = confusion_matrix(y_true, y_pred)\n",
    "mat"
   ]
  },
  {
   "cell_type": "markdown",
   "metadata": {},
   "source": [
    "### Precision Score"
   ]
  },
  {
   "cell_type": "code",
   "execution_count": 9,
   "metadata": {},
   "outputs": [
    {
     "name": "stdout",
     "output_type": "stream",
     "text": [
      "Test precision : 49.6%\n"
     ]
    }
   ],
   "source": [
    "precision_score = metrics.precision_score(y_true,y_pred,average='macro')\n",
    "print(f\"Test precision : {precision_score:.1%}\")"
   ]
  },
  {
   "cell_type": "markdown",
   "metadata": {},
   "source": [
    "### F1 Score"
   ]
  },
  {
   "cell_type": "code",
   "execution_count": 11,
   "metadata": {},
   "outputs": [
    {
     "name": "stdout",
     "output_type": "stream",
     "text": [
      "F1 score : 50.9%\n"
     ]
    }
   ],
   "source": [
    "f1_score = metrics.f1_score(y_true,y_pred)\n",
    "print(f\"F1 score :{f1_score: .1%}\")"
   ]
  },
  {
   "cell_type": "markdown",
   "metadata": {},
   "source": [
    "### Recall Score"
   ]
  },
  {
   "cell_type": "code",
   "execution_count": 10,
   "metadata": {},
   "outputs": [
    {
     "name": "stdout",
     "output_type": "stream",
     "text": [
      "Recall score : 49.6%\n"
     ]
    }
   ],
   "source": [
    "r1 = metrics.recall_score(y_true,y_pred,average = \"macro\")\n",
    "print(f\"Recall score :{r1: .1%}\")"
   ]
  },
  {
   "cell_type": "markdown",
   "metadata": {},
   "source": [
    "## Visualisation"
   ]
  },
  {
   "cell_type": "code",
   "execution_count": 11,
   "metadata": {},
   "outputs": [
    {
     "data": {
      "text/plain": [
       "<matplotlib.legend.Legend at 0x20dfb9e1820>"
      ]
     },
     "execution_count": 11,
     "metadata": {},
     "output_type": "execute_result"
    },
    {
     "data": {
      "image/png": "[encoded data removed]",
      "text/plain": [
       "<Figure size 432x288 with 1 Axes>"
      ]
     },
     "metadata": {
      "needs_background": "light"
     },
     "output_type": "display_data"
    }
   ],
   "source": [
    "#Summarize history for accuracy\n",
    "plt.plot(history.history['accuracy'], label='train')\n",
    "plt.plot(history.history['val_accuracy'], label='test')\n",
    "plt.title('Train Accuracy Plot')\n",
    "plt.ylabel('accuracy')\n",
    "plt.xlabel('epoch')\n",
    "plt.legend()"
   ]
  },
  {
   "cell_type": "code",
   "execution_count": 12,
   "metadata": {},
   "outputs": [
    {
     "data": {
      "text/plain": [
       "<matplotlib.legend.Legend at 0x20dfbe8cc70>"
      ]
     },
     "execution_count": 12,
     "metadata": {},
     "output_type": "execute_result"
    },
    {
     "data": {
      "image/png": "[encoded data removed]",
      "text/plain": [
       "<Figure size 432x288 with 1 Axes>"
      ]
     },
     "metadata": {
      "needs_background": "light"
     },
     "output_type": "display_data"
    }
   ],
   "source": [
    "plt.plot(history.history['loss'], label='train')\n",
    "plt.plot(history.history['val_loss'], label='test')\n",
    "plt.title('Train loss plot')\n",
    "plt.ylabel('loss')\n",
    "plt.xlabel('epoch')\n",
    "plt.legend()"
   ]
  },
  {
   "cell_type": "markdown",
   "metadata": {},
   "source": [
    "## Heatmap"
   ]
  },
  {
   "cell_type": "code",
   "execution_count": 13,
   "metadata": {},
   "outputs": [
    {
     "data": {
      "image/png": "[encoded data removed]",
      "text/plain": [
       "<Figure size 864x864 with 2 Axes>"
      ]
     },
     "metadata": {
      "needs_background": "light"
     },
     "output_type": "display_data"
    }
   ],
   "source": [
    "plt.figure(figsize=(12,12))\n",
    "sns_hmp = sns.heatmap(mat, annot=True, xticklabels = [class_types[i] for i in range(len(class_types))], yticklabels = [class_types[i] for i in range(len(class_types))], fmt=\"d\")\n",
    "fig = sns_hmp.get_figure()"
   ]
  }
 ],
 "metadata": {
  "kernelspec": {
   "display_name": "Python 3.8.10 64-bit (microsoft store)",
   "language": "python",
   "name": "python3"
  },
  "language_info": {
   "codemirror_mode": {
    "name": "ipython",
    "version": 3
   },
   "file_extension": ".py",
   "mimetype": "text/x-python",
   "name": "python",
   "nbconvert_exporter": "python",
   "pygments_lexer": "ipython3",
   "version": "3.8.10"
  },
  "orig_nbformat": 4,
  "vscode": {
   "interpreter": {
    "hash": "2975ce78cb703cbf264356bf7333929784bf3b5ba3576048c471cb2932a2109e"
   }
  }
 },
 "nbformat": 4,
 "nbformat_minor": 2
}
